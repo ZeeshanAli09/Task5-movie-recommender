{
 "cells": [
  {
   "cell_type": "code",
   "execution_count": 35,
   "id": "58619e1d-4736-4748-ab4c-3da0210fdb2f",
   "metadata": {},
   "outputs": [
    {
     "name": "stdout",
     "output_type": "stream",
     "text": [
      "Similar users to User1: ['User2', 'User4']\n",
      "\n",
      "Top movie recommendations for User1:\n",
      "No new recommendations available.\n"
     ]
    }
   ],
   "source": [
    "import pandas as pd\n",
    "from sklearn.neighbors import NearestNeighbors\n",
    "\n",
    "# Step 1: Create sample data with an extra movie only rated by User3\n",
    "data = [\n",
    "    {'User': 'User1', 'Movie': 'Interception', 'Rating': 5},\n",
    "    {'User': 'User1', 'Movie': 'Interstellar', 'Rating': 4},\n",
    "    {'User': 'User1', 'Movie': 'Stranger Things', 'Rating': 4},\n",
    "    {'User': 'User2', 'Movie': 'Interception', 'Rating': 4},\n",
    "    {'User': 'User2', 'Movie': 'Stranger Things', 'Rating': 5},\n",
    "    {'User': 'User3', 'Movie': 'Interception', 'Rating': 5},\n",
    "    {'User': 'User3', 'Movie': 'Stranger Things', 'Rating': 3},\n",
    "    {'User': 'User3', 'Movie': 'Dark', 'Rating': 5},  # Only User3 rated this\n",
    "    {'User': 'User4', 'Movie': 'Interstellar', 'Rating': 3},\n",
    "    {'User': 'User4', 'Movie': 'Stranger Things', 'Rating': 5}\n",
    "]\n",
    "\n",
    "# Step 2: Create DataFrame\n",
    "df = pd.DataFrame(data)\n",
    "\n",
    "# Step 3: Create user-movie matrix\n",
    "user_movie_matrix = df.pivot_table(index='User', columns='Movie', values='Rating').fillna(0)\n",
    "\n",
    "# Step 4: Build the Nearest Neighbors model\n",
    "model = NearestNeighbors(metric='cosine', algorithm='brute')\n",
    "model.fit(user_movie_matrix)\n",
    "\n",
    "# Step 5: Choose a sample user (e.g., User1) and get similar users\n",
    "sample_user = 'User1'\n",
    "sample_user_index = user_movie_matrix.index.get_loc(sample_user)\n",
    "distances, indices = model.kneighbors(user_movie_matrix.iloc[[sample_user_index]], n_neighbors=3)\n",
    "\n",
    "# Step 6: Get recommended movies from similar users\n",
    "similar_users = user_movie_matrix.index[indices.flatten()[1:]]  # Exclude the first (it's the user itself)\n",
    "\n",
    "# Get movies watched by similar users but not by the sample user\n",
    "sample_user_movies = set(df[df['User'] == sample_user]['Movie'])\n",
    "recommended_movies = {}\n",
    "\n",
    "for sim_user in similar_users:\n",
    "    sim_user_movies = df[df['User'] == sim_user]\n",
    "    for _, row in sim_user_movies.iterrows():\n",
    "        if row['Movie'] not in sample_user_movies:\n",
    "            if row['Movie'] not in recommended_movies:\n",
    "                recommended_movies[row['Movie']] = row['Rating']\n",
    "            else:\n",
    "                recommended_movies[row['Movie']] = max(recommended_movies[row['Movie']], row['Rating'])\n",
    "\n",
    "# Step 7: Show recommendations\n",
    "print(f\"Similar users to {sample_user}: {list(similar_users)}\\n\")\n",
    "print(f\"Top movie recommendations for {sample_user}:\")\n",
    "\n",
    "if recommended_movies:\n",
    "    for movie, rating in sorted(recommended_movies.items(), key=lambda x: -x[1]):\n",
    "        print(f\"{movie} (Predicted rating: {rating})\")\n",
    "else:\n",
    "    print(\"No new recommendations available.\")\n"
   ]
  },
  {
   "cell_type": "code",
   "execution_count": 37,
   "id": "8e16499e-66af-4ac5-80f1-be9126b458ed",
   "metadata": {},
   "outputs": [
    {
     "name": "stdout",
     "output_type": "stream",
     "text": [
      "Similar users to User1: ['User4', 'User2']\n",
      "\n",
      "Top movie recommendations for User1:\n",
      "No new recommendations available.\n"
     ]
    },
    {
     "name": "stderr",
     "output_type": "stream",
     "text": [
      "D:\\5th-Semester\\jupyter\\Lib\\site-packages\\sklearn\\utils\\validation.py:2739: UserWarning: X does not have valid feature names, but NearestNeighbors was fitted with feature names\n",
      "  warnings.warn(\n"
     ]
    }
   ],
   "source": [
    "import pandas as pd\n",
    "from sklearn.neighbors import NearestNeighbors\n",
    "\n",
    "# fixed data with spelling corrected\n",
    "data = {\n",
    "    'User': ['User1', 'User1', 'User1', \n",
    "             'User2', 'User2', \n",
    "             'User3', 'User3', 'User3', \n",
    "             'User4', 'User4',\n",
    "             'User5', 'User5', 'User5', 'User5'],\n",
    "    \n",
    "    'Movie': ['Interception', 'Interstellar', 'Stranger Things',\n",
    "              'Interception', 'Interstellar',\n",
    "              'Interception', 'Stranger Things', 'Breaking Bad',\n",
    "              'Interstellar', 'Stranger Things',\n",
    "              'Dark', 'Interstellar', 'Money Heist', 'Interception'],\n",
    "    \n",
    "    'Rating': [5, 4, 5, \n",
    "               4, 5, \n",
    "               5, 4, 5,\n",
    "               4, 5,\n",
    "               5, 3, 4, 2]\n",
    "}\n",
    "\n",
    "df = pd.DataFrame(data)\n",
    "\n",
    "# create user-item matrix\n",
    "user_movie_matrix = df.pivot_table(index='User', columns='Movie', values='Rating').fillna(0)\n",
    "\n",
    "# train Nearest Neighbors model\n",
    "model = NearestNeighbors(metric='cosine', algorithm='brute')\n",
    "model.fit(user_movie_matrix)\n",
    "\n",
    "# get similar users\n",
    "sample_user_index = list(user_movie_matrix.index).index('User1')\n",
    "distances, indices = model.kneighbors([user_movie_matrix.iloc[sample_user_index]], n_neighbors=3)\n",
    "\n",
    "# similar users\n",
    "similar_users = user_movie_matrix.index[indices.flatten()[1:]]\n",
    "print(f\"Similar users to User1: {list(similar_users)}\\n\")\n",
    "\n",
    "# get movies similar users rated that User1 hasn't\n",
    "user1_movies = set(df[df['User'] == 'User1']['Movie'])\n",
    "similar_users_movies = df[df['User'].isin(similar_users)]\n",
    "\n",
    "# filter out movies User1 already watched\n",
    "recommendations = similar_users_movies[~similar_users_movies['Movie'].isin(user1_movies)]\n",
    "top_recommendations = recommendations.groupby('Movie')['Rating'].mean().sort_values(ascending=False).head(3)\n",
    "\n",
    "# display\n",
    "if not top_recommendations.empty:\n",
    "    print(\"Top movie recommendations for User1:\")\n",
    "    for movie in top_recommendations.index:\n",
    "        print(f\"- {movie}\")\n",
    "else:\n",
    "    print(\"Top movie recommendations for User1:\\nNo new recommendations available.\")\n"
   ]
  },
  {
   "cell_type": "code",
   "execution_count": null,
   "id": "cd4ffcd3-a4a2-4373-876b-76dd41bb4b83",
   "metadata": {},
   "outputs": [],
   "source": []
  }
 ],
 "metadata": {
  "kernelspec": {
   "display_name": "Python 3 (ipykernel)",
   "language": "python",
   "name": "python3"
  },
  "language_info": {
   "codemirror_mode": {
    "name": "ipython",
    "version": 3
   },
   "file_extension": ".py",
   "mimetype": "text/x-python",
   "name": "python",
   "nbconvert_exporter": "python",
   "pygments_lexer": "ipython3",
   "version": "3.12.4"
  }
 },
 "nbformat": 4,
 "nbformat_minor": 5
}
